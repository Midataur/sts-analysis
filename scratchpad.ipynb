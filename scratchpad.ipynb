{
 "cells": [
  {
   "cell_type": "code",
   "execution_count": 77,
   "metadata": {},
   "outputs": [
    {
     "name": "stdout",
     "output_type": "stream",
     "text": [
      "The autoreload extension is already loaded. To reload it, use:\n",
      "  %reload_ext autoreload\n"
     ]
    },
    {
     "name": "stderr",
     "output_type": "stream",
     "text": [
      "Unzipping files: 100%|██████████| 19/19 [00:00<00:00, 160993.49it/s]\n",
      "Extracting runs: 100%|██████████| 19/19 [00:02<00:00,  8.75it/s]\n",
      "888it [00:00, 2565111.54it/s]\n"
     ]
    }
   ],
   "source": [
    "%load_ext autoreload\n",
    "%autoreload 2\n",
    "\n",
    "from utilities import *\n",
    "\n",
    "process_zips()\n",
    "runs = extract_runs()\n",
    "\n",
    "data = runs_to_df(runs, threshold=0.015)"
   ]
  },
  {
   "cell_type": "code",
   "execution_count": 66,
   "metadata": {},
   "outputs": [
    {
     "name": "stderr",
     "output_type": "stream",
     "text": [
      "100%|██████████| 17176/17176 [00:02<00:00, 6397.90it/s]\n"
     ]
    }
   ],
   "source": [
    "from states import reconstruct_state\n",
    "\n",
    "states = []\n",
    "\n",
    "for pos, run in enumerate(tqdm(runs)):\n",
    "    if not run[\"is_ascension_mode\"] or len(run[\"gold_per_floor\"]) != run[\"floor_reached\"]-1:\n",
    "        continue\n",
    "    \n",
    "    for choice in run[\"card_choices\"]:\n",
    "        #print(pos, choice[\"floor\"]-1)\n",
    "        states.append(reconstruct_state(run, choice[\"floor\"]-1))"
   ]
  },
  {
   "cell_type": "code",
   "execution_count": 65,
   "metadata": {},
   "outputs": [
    {
     "data": {
      "text/plain": [
       "{'character': 'IRONCLAD',\n",
       " 'current_hp': 74,\n",
       " 'max_hp': 75,\n",
       " 'gold': 112,\n",
       " 'deck': ['AscendersBane',\n",
       "  'Strike_R',\n",
       "  'Defend_R+1',\n",
       "  'Defend_R',\n",
       "  'Defend_R',\n",
       "  'Defend_R+1',\n",
       "  'Bash',\n",
       "  'Offering+1',\n",
       "  'Strike_R',\n",
       "  'Strike_R',\n",
       "  'Strike_R',\n",
       "  'Strike_R'],\n",
       " 'relics': [],\n",
       " 'ascension': 20}"
      ]
     },
     "execution_count": 65,
     "metadata": {},
     "output_type": "execute_result"
    }
   ],
   "source": [
    "states[0]"
   ]
  },
  {
   "cell_type": "code",
   "execution_count": 54,
   "metadata": {},
   "outputs": [
    {
     "data": {
      "text/plain": [
       "{'character': 'DEFECT',\n",
       " 'current_hp': 59,\n",
       " 'max_hp': 95,\n",
       " 'gold': 1013,\n",
       " 'deck': ['AscendersBane',\n",
       "  'Strike_B',\n",
       "  'Defend_B',\n",
       "  'Defend_B',\n",
       "  'Defend_B',\n",
       "  'Defend_B',\n",
       "  'Zap',\n",
       "  'Dualcast',\n",
       "  'Strike_B',\n",
       "  'Strike_B',\n",
       "  'Strike_B'],\n",
       " 'relics': [],\n",
       " 'ascension': 13}"
      ]
     },
     "execution_count": 54,
     "metadata": {},
     "output_type": "execute_result"
    }
   ],
   "source": [
    "reconstruct_state(runs[9344], 3)"
   ]
  }
 ],
 "metadata": {
  "kernelspec": {
   "display_name": ".venv",
   "language": "python",
   "name": "python3"
  },
  "language_info": {
   "codemirror_mode": {
    "name": "ipython",
    "version": 3
   },
   "file_extension": ".py",
   "mimetype": "text/x-python",
   "name": "python",
   "nbconvert_exporter": "python",
   "pygments_lexer": "ipython3",
   "version": "3.13.2"
  }
 },
 "nbformat": 4,
 "nbformat_minor": 2
}
